{
  "cells": [
    {
      "cell_type": "markdown",
      "metadata": {
        "id": "6Dt_MZ-CQMCr"
      },
      "source": [
        "\n",
        "\n",
        "# Parkinson’s Disease\n",
        "\n",
        "Para poder describir el problema asignado, debemos de hacer una breve introducción sobre la enfermedad de **Parkinson**, siendo un tipo de trastorno del movimiento. Esto suele ocurrir cuando las células nerviosas no producen suficiente cantidad de dopamina en el cerebro (esta es una sustancia fundamental para el cerebro). Una de las principales características para saber si el paciente padece de Parkinson es en el habla. Ésta cambia cuando apenas está comenzando, esto es importante porque en el dataset asignado se grabaron 195 voces por cada individuo, además, usa un conjunto de datos que se compone de una gama de **mediciones biomédicas** de la voz de 31 personas, en el cuál 23 tienen la enfermedad de Parkinson. \n",
        "Cabe recalcar que nuestro problema es de tipo **clasificación** porque debemos de decir si un paciente padece de la enfermedad de Parkinson o está sano, por lo tanto, debemos de obtener una buena precisión.\n"
      ]
    },
    {
      "cell_type": "code",
      "execution_count": null,
      "metadata": {
        "id": "Q1vMO1ayQFRU"
      },
      "outputs": [],
      "source": [
        "import numpy as np\n",
        "import matplotlib.pyplot as plt\n",
        "from sklearn.model_selection import train_test_split\n",
        "from sklearn.neural_network import MLPClassifier\n",
        "from sklearn.neural_network import MLPRegressor\n",
        "from sklearn import metrics\n",
        "from sklearn.metrics import classification_report\n",
        "from sklearn.metrics import accuracy_score\n",
        "from sklearn.metrics import mean_squared_error\n",
        "from sklearn.exceptions import ConvergenceWarning\n",
        "from sklearn.model_selection import GridSearchCV\n",
        "from sklearn import preprocessing\n",
        "\n",
        "import pandas as pd\n",
        "import seaborn as sns\n",
        "\n",
        "from sklearn.model_selection import GridSearchCV\n"
      ]
    },
    {
      "cell_type": "markdown",
      "metadata": {
        "id": "fA7-JQ9OWMON"
      },
      "source": [
        "# Lectura del dataset\n",
        "En la primera línea vamos a crear una variable que va a obtener el conjunto de datos del dataset utilizado, para esto, invocaremos una función del módulo de pandas **read_csv** y le pasamos la ruta del archivo en formato csv.\n",
        "En la segunda línea imprimimos nuestro conjunto de información.\n",
        "Daremos una breve información de cada columna.\n",
        "\n",
        "* **MDVP:Fo(Hz)** = Es la frecuencia fundamental vocal promedio.\n",
        "* **MDVP:Fhi(Hz)** = Es la máxima frecuencia vocal fundamental.\n",
        "* **MDVP:Flo(Hz)** = Es la mínima frecuencia vocal fundamental.\n",
        "* **MDVP:Jitter(%), MDVP:Jitter(Abs), MDVP:RAP, MDVP:PPQ, Jitter:DDP** = Son las diversas medidas de variación de la frecuencia fundamental.\n",
        "* **MDVP:Shimmer,MDVP:Shimmer(dB),Shimmer:APQ3,Shimmer:APQ5,MDVP:APQ,Shimmer:DDA** = Son las diversas medidas de variación de la amplitud.\n",
        "* **NHR, HNR** = Estas son dos medidas de la relación entre el ruido y los componentes tonales de la voz.\n",
        "* **status (variable a predecir)** = El estado de salud del sujeto. \n",
        "  -   1: El sujeto tiene la enfermedad de Parkinson.\n",
        "  -   0: El sujeto está sano.\n",
        "* **RPDE, D2** = Son dos medidas de complejidad dinámica no lineal.\n",
        "* **DFA** = Es la exponente de escala fractal de la señal.\n",
        "* **spread1,spread2,PPE** = Son tres medidas no lineales de variación de la frecuencia fundamental.\n",
        "\n",
        "\n"
      ]
    },
    {
      "cell_type": "code",
      "execution_count": null,
      "metadata": {
        "id": "QgvzwmGjVz5e",
        "colab": {
          "base_uri": "https://localhost:8080/"
        },
        "outputId": "3913eec0-8d29-4ad1-ac8d-01a5bb9edb77"
      },
      "outputs": [
        {
          "output_type": "stream",
          "name": "stdout",
          "text": [
            "<class 'pandas.core.frame.DataFrame'>\n",
            "RangeIndex: 195 entries, 0 to 194\n",
            "Data columns (total 24 columns):\n",
            " #   Column            Non-Null Count  Dtype  \n",
            "---  ------            --------------  -----  \n",
            " 0   name              195 non-null    object \n",
            " 1   MDVP:Fo(Hz)       195 non-null    float64\n",
            " 2   MDVP:Fhi(Hz)      195 non-null    float64\n",
            " 3   MDVP:Flo(Hz)      195 non-null    float64\n",
            " 4   MDVP:Jitter(%)    195 non-null    float64\n",
            " 5   MDVP:Jitter(Abs)  195 non-null    float64\n",
            " 6   MDVP:RAP          195 non-null    float64\n",
            " 7   MDVP:PPQ          195 non-null    float64\n",
            " 8   Jitter:DDP        195 non-null    float64\n",
            " 9   MDVP:Shimmer      195 non-null    float64\n",
            " 10  MDVP:Shimmer(dB)  195 non-null    float64\n",
            " 11  Shimmer:APQ3      195 non-null    float64\n",
            " 12  Shimmer:APQ5      195 non-null    float64\n",
            " 13  MDVP:APQ          195 non-null    float64\n",
            " 14  Shimmer:DDA       195 non-null    float64\n",
            " 15  NHR               195 non-null    float64\n",
            " 16  HNR               195 non-null    float64\n",
            " 17  status            195 non-null    int64  \n",
            " 18  RPDE              195 non-null    float64\n",
            " 19  DFA               195 non-null    float64\n",
            " 20  spread1           195 non-null    float64\n",
            " 21  spread2           195 non-null    float64\n",
            " 22  D2                195 non-null    float64\n",
            " 23  PPE               195 non-null    float64\n",
            "dtypes: float64(22), int64(1), object(1)\n",
            "memory usage: 36.7+ KB\n",
            "None\n"
          ]
        }
      ],
      "source": [
        "parkinson_ds = pd.read_csv(\"parkinsons.csv\")\n",
        "print(parkinson_ds.info())"
      ]
    },
    {
      "cell_type": "markdown",
      "metadata": {
        "id": "lIa6aCvIcpzx"
      },
      "source": [
        "Eliminaremos la columna **name** porque no es relevante para nuestro estudio. Para esto, tenemos que tener en cuenta que nuestra variable **parkinson_ds** que contiene la información a estudiar es de tipo **DataFrame**, este tiene un método llamado **drop** que utilizaremos para eliminar la columna. "
      ]
    },
    {
      "cell_type": "code",
      "execution_count": null,
      "metadata": {
        "id": "Mhd-w9yddI2Y"
      },
      "outputs": [],
      "source": [
        "parkinson_ds = parkinson_ds.drop('name', axis=1)"
      ]
    },
    {
      "cell_type": "markdown",
      "metadata": {
        "id": "4fSWTxXqel4m"
      },
      "source": [
        "Con el método describe vamos a obtener la información estadística de los datos de nuestro dataset. Acá podemos ver información como el número de muestra utilizados, la media, desviación estándar, el valor máximo y mínimo, mediana y los valores percentiles (25%, 50% y 75%)."
      ]
    },
    {
      "cell_type": "code",
      "execution_count": null,
      "metadata": {
        "id": "9QB8x4l9fyqV",
        "colab": {
          "base_uri": "https://localhost:8080/",
          "height": 394
        },
        "outputId": "921efaab-62ee-41da-d833-842c6daddb8b"
      },
      "outputs": [
        {
          "output_type": "execute_result",
          "data": {
            "text/plain": [
              "       MDVP:Fo(Hz)  MDVP:Fhi(Hz)  MDVP:Flo(Hz)  MDVP:Jitter(%)  \\\n",
              "count   195.000000    195.000000    195.000000      195.000000   \n",
              "mean    154.228641    197.104918    116.324631        0.006220   \n",
              "std      41.390065     91.491548     43.521413        0.004848   \n",
              "min      88.333000    102.145000     65.476000        0.001680   \n",
              "25%     117.572000    134.862500     84.291000        0.003460   \n",
              "50%     148.790000    175.829000    104.315000        0.004940   \n",
              "75%     182.769000    224.205500    140.018500        0.007365   \n",
              "max     260.105000    592.030000    239.170000        0.033160   \n",
              "\n",
              "       MDVP:Jitter(Abs)    MDVP:RAP    MDVP:PPQ  Jitter:DDP  MDVP:Shimmer  \\\n",
              "count        195.000000  195.000000  195.000000  195.000000    195.000000   \n",
              "mean           0.000044    0.003306    0.003446    0.009920      0.029709   \n",
              "std            0.000035    0.002968    0.002759    0.008903      0.018857   \n",
              "min            0.000007    0.000680    0.000920    0.002040      0.009540   \n",
              "25%            0.000020    0.001660    0.001860    0.004985      0.016505   \n",
              "50%            0.000030    0.002500    0.002690    0.007490      0.022970   \n",
              "75%            0.000060    0.003835    0.003955    0.011505      0.037885   \n",
              "max            0.000260    0.021440    0.019580    0.064330      0.119080   \n",
              "\n",
              "       MDVP:Shimmer(dB)  ...  Shimmer:DDA         NHR         HNR      status  \\\n",
              "count        195.000000  ...   195.000000  195.000000  195.000000  195.000000   \n",
              "mean           0.282251  ...     0.046993    0.024847   21.885974    0.753846   \n",
              "std            0.194877  ...     0.030459    0.040418    4.425764    0.431878   \n",
              "min            0.085000  ...     0.013640    0.000650    8.441000    0.000000   \n",
              "25%            0.148500  ...     0.024735    0.005925   19.198000    1.000000   \n",
              "50%            0.221000  ...     0.038360    0.011660   22.085000    1.000000   \n",
              "75%            0.350000  ...     0.060795    0.025640   25.075500    1.000000   \n",
              "max            1.302000  ...     0.169420    0.314820   33.047000    1.000000   \n",
              "\n",
              "             RPDE         DFA     spread1     spread2          D2         PPE  \n",
              "count  195.000000  195.000000  195.000000  195.000000  195.000000  195.000000  \n",
              "mean     0.498536    0.718099   -5.684397    0.226510    2.381826    0.206552  \n",
              "std      0.103942    0.055336    1.090208    0.083406    0.382799    0.090119  \n",
              "min      0.256570    0.574282   -7.964984    0.006274    1.423287    0.044539  \n",
              "25%      0.421306    0.674758   -6.450096    0.174351    2.099125    0.137451  \n",
              "50%      0.495954    0.722254   -5.720868    0.218885    2.361532    0.194052  \n",
              "75%      0.587562    0.761881   -5.046192    0.279234    2.636456    0.252980  \n",
              "max      0.685151    0.825288   -2.434031    0.450493    3.671155    0.527367  \n",
              "\n",
              "[8 rows x 23 columns]"
            ],
            "text/html": [
              "\n",
              "  <div id=\"df-c3405fc0-0a9d-414f-a89a-69f57eab2ca9\">\n",
              "    <div class=\"colab-df-container\">\n",
              "      <div>\n",
              "<style scoped>\n",
              "    .dataframe tbody tr th:only-of-type {\n",
              "        vertical-align: middle;\n",
              "    }\n",
              "\n",
              "    .dataframe tbody tr th {\n",
              "        vertical-align: top;\n",
              "    }\n",
              "\n",
              "    .dataframe thead th {\n",
              "        text-align: right;\n",
              "    }\n",
              "</style>\n",
              "<table border=\"1\" class=\"dataframe\">\n",
              "  <thead>\n",
              "    <tr style=\"text-align: right;\">\n",
              "      <th></th>\n",
              "      <th>MDVP:Fo(Hz)</th>\n",
              "      <th>MDVP:Fhi(Hz)</th>\n",
              "      <th>MDVP:Flo(Hz)</th>\n",
              "      <th>MDVP:Jitter(%)</th>\n",
              "      <th>MDVP:Jitter(Abs)</th>\n",
              "      <th>MDVP:RAP</th>\n",
              "      <th>MDVP:PPQ</th>\n",
              "      <th>Jitter:DDP</th>\n",
              "      <th>MDVP:Shimmer</th>\n",
              "      <th>MDVP:Shimmer(dB)</th>\n",
              "      <th>...</th>\n",
              "      <th>Shimmer:DDA</th>\n",
              "      <th>NHR</th>\n",
              "      <th>HNR</th>\n",
              "      <th>status</th>\n",
              "      <th>RPDE</th>\n",
              "      <th>DFA</th>\n",
              "      <th>spread1</th>\n",
              "      <th>spread2</th>\n",
              "      <th>D2</th>\n",
              "      <th>PPE</th>\n",
              "    </tr>\n",
              "  </thead>\n",
              "  <tbody>\n",
              "    <tr>\n",
              "      <th>count</th>\n",
              "      <td>195.000000</td>\n",
              "      <td>195.000000</td>\n",
              "      <td>195.000000</td>\n",
              "      <td>195.000000</td>\n",
              "      <td>195.000000</td>\n",
              "      <td>195.000000</td>\n",
              "      <td>195.000000</td>\n",
              "      <td>195.000000</td>\n",
              "      <td>195.000000</td>\n",
              "      <td>195.000000</td>\n",
              "      <td>...</td>\n",
              "      <td>195.000000</td>\n",
              "      <td>195.000000</td>\n",
              "      <td>195.000000</td>\n",
              "      <td>195.000000</td>\n",
              "      <td>195.000000</td>\n",
              "      <td>195.000000</td>\n",
              "      <td>195.000000</td>\n",
              "      <td>195.000000</td>\n",
              "      <td>195.000000</td>\n",
              "      <td>195.000000</td>\n",
              "    </tr>\n",
              "    <tr>\n",
              "      <th>mean</th>\n",
              "      <td>154.228641</td>\n",
              "      <td>197.104918</td>\n",
              "      <td>116.324631</td>\n",
              "      <td>0.006220</td>\n",
              "      <td>0.000044</td>\n",
              "      <td>0.003306</td>\n",
              "      <td>0.003446</td>\n",
              "      <td>0.009920</td>\n",
              "      <td>0.029709</td>\n",
              "      <td>0.282251</td>\n",
              "      <td>...</td>\n",
              "      <td>0.046993</td>\n",
              "      <td>0.024847</td>\n",
              "      <td>21.885974</td>\n",
              "      <td>0.753846</td>\n",
              "      <td>0.498536</td>\n",
              "      <td>0.718099</td>\n",
              "      <td>-5.684397</td>\n",
              "      <td>0.226510</td>\n",
              "      <td>2.381826</td>\n",
              "      <td>0.206552</td>\n",
              "    </tr>\n",
              "    <tr>\n",
              "      <th>std</th>\n",
              "      <td>41.390065</td>\n",
              "      <td>91.491548</td>\n",
              "      <td>43.521413</td>\n",
              "      <td>0.004848</td>\n",
              "      <td>0.000035</td>\n",
              "      <td>0.002968</td>\n",
              "      <td>0.002759</td>\n",
              "      <td>0.008903</td>\n",
              "      <td>0.018857</td>\n",
              "      <td>0.194877</td>\n",
              "      <td>...</td>\n",
              "      <td>0.030459</td>\n",
              "      <td>0.040418</td>\n",
              "      <td>4.425764</td>\n",
              "      <td>0.431878</td>\n",
              "      <td>0.103942</td>\n",
              "      <td>0.055336</td>\n",
              "      <td>1.090208</td>\n",
              "      <td>0.083406</td>\n",
              "      <td>0.382799</td>\n",
              "      <td>0.090119</td>\n",
              "    </tr>\n",
              "    <tr>\n",
              "      <th>min</th>\n",
              "      <td>88.333000</td>\n",
              "      <td>102.145000</td>\n",
              "      <td>65.476000</td>\n",
              "      <td>0.001680</td>\n",
              "      <td>0.000007</td>\n",
              "      <td>0.000680</td>\n",
              "      <td>0.000920</td>\n",
              "      <td>0.002040</td>\n",
              "      <td>0.009540</td>\n",
              "      <td>0.085000</td>\n",
              "      <td>...</td>\n",
              "      <td>0.013640</td>\n",
              "      <td>0.000650</td>\n",
              "      <td>8.441000</td>\n",
              "      <td>0.000000</td>\n",
              "      <td>0.256570</td>\n",
              "      <td>0.574282</td>\n",
              "      <td>-7.964984</td>\n",
              "      <td>0.006274</td>\n",
              "      <td>1.423287</td>\n",
              "      <td>0.044539</td>\n",
              "    </tr>\n",
              "    <tr>\n",
              "      <th>25%</th>\n",
              "      <td>117.572000</td>\n",
              "      <td>134.862500</td>\n",
              "      <td>84.291000</td>\n",
              "      <td>0.003460</td>\n",
              "      <td>0.000020</td>\n",
              "      <td>0.001660</td>\n",
              "      <td>0.001860</td>\n",
              "      <td>0.004985</td>\n",
              "      <td>0.016505</td>\n",
              "      <td>0.148500</td>\n",
              "      <td>...</td>\n",
              "      <td>0.024735</td>\n",
              "      <td>0.005925</td>\n",
              "      <td>19.198000</td>\n",
              "      <td>1.000000</td>\n",
              "      <td>0.421306</td>\n",
              "      <td>0.674758</td>\n",
              "      <td>-6.450096</td>\n",
              "      <td>0.174351</td>\n",
              "      <td>2.099125</td>\n",
              "      <td>0.137451</td>\n",
              "    </tr>\n",
              "    <tr>\n",
              "      <th>50%</th>\n",
              "      <td>148.790000</td>\n",
              "      <td>175.829000</td>\n",
              "      <td>104.315000</td>\n",
              "      <td>0.004940</td>\n",
              "      <td>0.000030</td>\n",
              "      <td>0.002500</td>\n",
              "      <td>0.002690</td>\n",
              "      <td>0.007490</td>\n",
              "      <td>0.022970</td>\n",
              "      <td>0.221000</td>\n",
              "      <td>...</td>\n",
              "      <td>0.038360</td>\n",
              "      <td>0.011660</td>\n",
              "      <td>22.085000</td>\n",
              "      <td>1.000000</td>\n",
              "      <td>0.495954</td>\n",
              "      <td>0.722254</td>\n",
              "      <td>-5.720868</td>\n",
              "      <td>0.218885</td>\n",
              "      <td>2.361532</td>\n",
              "      <td>0.194052</td>\n",
              "    </tr>\n",
              "    <tr>\n",
              "      <th>75%</th>\n",
              "      <td>182.769000</td>\n",
              "      <td>224.205500</td>\n",
              "      <td>140.018500</td>\n",
              "      <td>0.007365</td>\n",
              "      <td>0.000060</td>\n",
              "      <td>0.003835</td>\n",
              "      <td>0.003955</td>\n",
              "      <td>0.011505</td>\n",
              "      <td>0.037885</td>\n",
              "      <td>0.350000</td>\n",
              "      <td>...</td>\n",
              "      <td>0.060795</td>\n",
              "      <td>0.025640</td>\n",
              "      <td>25.075500</td>\n",
              "      <td>1.000000</td>\n",
              "      <td>0.587562</td>\n",
              "      <td>0.761881</td>\n",
              "      <td>-5.046192</td>\n",
              "      <td>0.279234</td>\n",
              "      <td>2.636456</td>\n",
              "      <td>0.252980</td>\n",
              "    </tr>\n",
              "    <tr>\n",
              "      <th>max</th>\n",
              "      <td>260.105000</td>\n",
              "      <td>592.030000</td>\n",
              "      <td>239.170000</td>\n",
              "      <td>0.033160</td>\n",
              "      <td>0.000260</td>\n",
              "      <td>0.021440</td>\n",
              "      <td>0.019580</td>\n",
              "      <td>0.064330</td>\n",
              "      <td>0.119080</td>\n",
              "      <td>1.302000</td>\n",
              "      <td>...</td>\n",
              "      <td>0.169420</td>\n",
              "      <td>0.314820</td>\n",
              "      <td>33.047000</td>\n",
              "      <td>1.000000</td>\n",
              "      <td>0.685151</td>\n",
              "      <td>0.825288</td>\n",
              "      <td>-2.434031</td>\n",
              "      <td>0.450493</td>\n",
              "      <td>3.671155</td>\n",
              "      <td>0.527367</td>\n",
              "    </tr>\n",
              "  </tbody>\n",
              "</table>\n",
              "<p>8 rows × 23 columns</p>\n",
              "</div>\n",
              "      <button class=\"colab-df-convert\" onclick=\"convertToInteractive('df-c3405fc0-0a9d-414f-a89a-69f57eab2ca9')\"\n",
              "              title=\"Convert this dataframe to an interactive table.\"\n",
              "              style=\"display:none;\">\n",
              "        \n",
              "  <svg xmlns=\"http://www.w3.org/2000/svg\" height=\"24px\"viewBox=\"0 0 24 24\"\n",
              "       width=\"24px\">\n",
              "    <path d=\"M0 0h24v24H0V0z\" fill=\"none\"/>\n",
              "    <path d=\"M18.56 5.44l.94 2.06.94-2.06 2.06-.94-2.06-.94-.94-2.06-.94 2.06-2.06.94zm-11 1L8.5 8.5l.94-2.06 2.06-.94-2.06-.94L8.5 2.5l-.94 2.06-2.06.94zm10 10l.94 2.06.94-2.06 2.06-.94-2.06-.94-.94-2.06-.94 2.06-2.06.94z\"/><path d=\"M17.41 7.96l-1.37-1.37c-.4-.4-.92-.59-1.43-.59-.52 0-1.04.2-1.43.59L10.3 9.45l-7.72 7.72c-.78.78-.78 2.05 0 2.83L4 21.41c.39.39.9.59 1.41.59.51 0 1.02-.2 1.41-.59l7.78-7.78 2.81-2.81c.8-.78.8-2.07 0-2.86zM5.41 20L4 18.59l7.72-7.72 1.47 1.35L5.41 20z\"/>\n",
              "  </svg>\n",
              "      </button>\n",
              "      \n",
              "  <style>\n",
              "    .colab-df-container {\n",
              "      display:flex;\n",
              "      flex-wrap:wrap;\n",
              "      gap: 12px;\n",
              "    }\n",
              "\n",
              "    .colab-df-convert {\n",
              "      background-color: #E8F0FE;\n",
              "      border: none;\n",
              "      border-radius: 50%;\n",
              "      cursor: pointer;\n",
              "      display: none;\n",
              "      fill: #1967D2;\n",
              "      height: 32px;\n",
              "      padding: 0 0 0 0;\n",
              "      width: 32px;\n",
              "    }\n",
              "\n",
              "    .colab-df-convert:hover {\n",
              "      background-color: #E2EBFA;\n",
              "      box-shadow: 0px 1px 2px rgba(60, 64, 67, 0.3), 0px 1px 3px 1px rgba(60, 64, 67, 0.15);\n",
              "      fill: #174EA6;\n",
              "    }\n",
              "\n",
              "    [theme=dark] .colab-df-convert {\n",
              "      background-color: #3B4455;\n",
              "      fill: #D2E3FC;\n",
              "    }\n",
              "\n",
              "    [theme=dark] .colab-df-convert:hover {\n",
              "      background-color: #434B5C;\n",
              "      box-shadow: 0px 1px 3px 1px rgba(0, 0, 0, 0.15);\n",
              "      filter: drop-shadow(0px 1px 2px rgba(0, 0, 0, 0.3));\n",
              "      fill: #FFFFFF;\n",
              "    }\n",
              "  </style>\n",
              "\n",
              "      <script>\n",
              "        const buttonEl =\n",
              "          document.querySelector('#df-c3405fc0-0a9d-414f-a89a-69f57eab2ca9 button.colab-df-convert');\n",
              "        buttonEl.style.display =\n",
              "          google.colab.kernel.accessAllowed ? 'block' : 'none';\n",
              "\n",
              "        async function convertToInteractive(key) {\n",
              "          const element = document.querySelector('#df-c3405fc0-0a9d-414f-a89a-69f57eab2ca9');\n",
              "          const dataTable =\n",
              "            await google.colab.kernel.invokeFunction('convertToInteractive',\n",
              "                                                     [key], {});\n",
              "          if (!dataTable) return;\n",
              "\n",
              "          const docLinkHtml = 'Like what you see? Visit the ' +\n",
              "            '<a target=\"_blank\" href=https://colab.research.google.com/notebooks/data_table.ipynb>data table notebook</a>'\n",
              "            + ' to learn more about interactive tables.';\n",
              "          element.innerHTML = '';\n",
              "          dataTable['output_type'] = 'display_data';\n",
              "          await google.colab.output.renderOutput(dataTable, element);\n",
              "          const docLink = document.createElement('div');\n",
              "          docLink.innerHTML = docLinkHtml;\n",
              "          element.appendChild(docLink);\n",
              "        }\n",
              "      </script>\n",
              "    </div>\n",
              "  </div>\n",
              "  "
            ]
          },
          "metadata": {},
          "execution_count": 40
        }
      ],
      "source": [
        "parkinson_ds.describe()"
      ]
    },
    {
      "cell_type": "markdown",
      "metadata": {
        "id": "i5kdZtIXIjAe"
      },
      "source": [
        "Vamos a verificar si en nuestro conjunto de datos tenemos valores nulos, para esto, sumamos la cantidad de nulos que tiene cada uno de nuestras celdas."
      ]
    },
    {
      "cell_type": "code",
      "execution_count": null,
      "metadata": {
        "id": "2I9O2VIHBg2z",
        "colab": {
          "base_uri": "https://localhost:8080/"
        },
        "outputId": "bfaa8b37-bee3-40ab-e4fe-028c7b596438"
      },
      "outputs": [
        {
          "output_type": "execute_result",
          "data": {
            "text/plain": [
              "MDVP:Fo(Hz)         0\n",
              "MDVP:Fhi(Hz)        0\n",
              "MDVP:Flo(Hz)        0\n",
              "MDVP:Jitter(%)      0\n",
              "MDVP:Jitter(Abs)    0\n",
              "MDVP:RAP            0\n",
              "MDVP:PPQ            0\n",
              "Jitter:DDP          0\n",
              "MDVP:Shimmer        0\n",
              "MDVP:Shimmer(dB)    0\n",
              "Shimmer:APQ3        0\n",
              "Shimmer:APQ5        0\n",
              "MDVP:APQ            0\n",
              "Shimmer:DDA         0\n",
              "NHR                 0\n",
              "HNR                 0\n",
              "status              0\n",
              "RPDE                0\n",
              "DFA                 0\n",
              "spread1             0\n",
              "spread2             0\n",
              "D2                  0\n",
              "PPE                 0\n",
              "dtype: int64"
            ]
          },
          "metadata": {},
          "execution_count": 41
        }
      ],
      "source": [
        "parkinson_ds.isnull().sum()"
      ]
    },
    {
      "cell_type": "markdown",
      "metadata": {
        "id": "mW4TaZyYB-fK"
      },
      "source": [
        "Como no tenemos ningún valor nulo, no aplicaremos ninguna técnica para el prepocesamiento de datos, por lo tanto, vamos a pasar para el siguiente item."
      ]
    },
    {
      "cell_type": "markdown",
      "metadata": {
        "id": "DoojjgiUCK3h"
      },
      "source": [
        "# Inspeccionamiento de los datos\n",
        "En esta parte vamos a ver:\n",
        "* La distribución de la variable a predecir.\n",
        "* La creación de una matriz de **Correlación** para inspeccionar posibles variables predictoras que están relacionadas entre sí."
      ]
    },
    {
      "cell_type": "markdown",
      "metadata": {
        "id": "yzh_wAsYDY0L"
      },
      "source": [
        "Crearemos un gráfico tipo histograma gracias al módulo de matplotlib para ver la variable a predecir."
      ]
    },
    {
      "cell_type": "code",
      "execution_count": null,
      "metadata": {
        "id": "oDCNetCqDehH",
        "colab": {
          "base_uri": "https://localhost:8080/",
          "height": 518
        },
        "outputId": "dc88d96f-992d-4c27-a115-96d53c0e5247"
      },
      "outputs": [
        {
          "output_type": "display_data",
          "data": {
            "text/plain": [
              "<Figure size 864x576 with 1 Axes>"
            ],
            "image/png": "[encoded data removed]"
          },
          "metadata": {}
        }
      ],
      "source": [
        "sns.set(rc={'figure.figsize':(12,8)})\n",
        "sns.countplot(x=\"status\", data=parkinson_ds)\n",
        "plt.title(\"Status count\")\n",
        "plt.show()"
      ]
    },
    {
      "cell_type": "markdown",
      "metadata": {
        "id": "KUtr_gUQSnaZ"
      },
      "source": [
        "En el histograma vemos que hay un desbalanceo en nuestra variable a predecir, por lo tanto, necesitamos balancearlo, haremos uso de **RandomOverSampler** que hace parte del módulo **imblearn**, esta clase nos sirve para realizar un submuestro aleatorio que nos servirá para balancear nuestra variable a predecir.\n",
        "\n",
        "**RandomOverSampler** tiene un parámetro llamado **sampling_strategy** y vamos a utilizar una estrategia llamada **minority**."
      ]
    },
    {
      "cell_type": "code",
      "execution_count": null,
      "metadata": {
        "id": "TrEKMwVZSHXE"
      },
      "outputs": [],
      "source": [
        "from imblearn.over_sampling import RandomOverSampler\n",
        "\n",
        "undersample = RandomOverSampler(sampling_strategy='minority')\n",
        "parkinson_ds, park_status = undersample.fit_resample(parkinson_ds, parkinson_ds[\"status\"])"
      ]
    },
    {
      "cell_type": "markdown",
      "metadata": {
        "id": "kV-7k4Yskb_r"
      },
      "source": [
        "Comprobamos ahora los datos."
      ]
    },
    {
      "cell_type": "code",
      "execution_count": null,
      "metadata": {
        "id": "WiuJdEGYkaRc",
        "colab": {
          "base_uri": "https://localhost:8080/",
          "height": 518
        },
        "outputId": "a8a4c64b-51c1-4b80-c079-b7b92e268137"
      },
      "outputs": [
        {
          "output_type": "display_data",
          "data": {
            "text/plain": [
              "<Figure size 864x576 with 1 Axes>"
            ],
            "image/png": "[encoded data removed]"
          },
          "metadata": {}
        }
      ],
      "source": [
        "sns.set(rc={'figure.figsize':(12,8)})\n",
        "sns.countplot(x=\"status\", data=parkinson_ds)\n",
        "plt.title(\"Status count\")\n",
        "plt.show()"
      ]
    },
    {
      "cell_type": "markdown",
      "metadata": {
        "id": "4cl5Yoz-qT4N"
      },
      "source": [
        "Primero creamos la matrix de correlación y redondeamos los decimales en 2 unidades, luego creamos el mapa de correlación.\n",
        "Se observó que hay muchas variables que tienen una correlación del 0.99, esto es porque las variables que tienen esta correlación son las mismas pero en diferente unidad, un ejemplo claro es **MDVP:Jitter(%)** que tiene una correlación del *0.99* con **MDVP:Jitter(Abs)** porque son las mismas variables pero la diferencia es que utilizan una unidad diferente. En la definición de nuestras columnas están las variables en diferentes unidades."
      ]
    },
    {
      "cell_type": "code",
      "execution_count": null,
      "metadata": {
        "id": "qVfjR_Ujkqul",
        "colab": {
          "base_uri": "https://localhost:8080/",
          "height": 605
        },
        "outputId": "3f0d6d67-7547-4d8a-9737-e9dba154f323"
      },
      "outputs": [
        {
          "output_type": "execute_result",
          "data": {
            "text/plain": [
              "<matplotlib.axes._subplots.AxesSubplot at 0x7fc319acb690>"
            ]
          },
          "metadata": {},
          "execution_count": 45
        },
        {
          "output_type": "display_data",
          "data": {
            "text/plain": [
              "<Figure size 864x576 with 2 Axes>"
            ],
            "image/png": "[encoded data removed]"
          },
          "metadata": {}
        }
      ],
      "source": [
        "correlation_matrix = parkinson_ds.corr().round(2)\n",
        "sns.heatmap(data=correlation_matrix, annot=True)"
      ]
    },
    {
      "cell_type": "markdown",
      "metadata": {
        "id": "19z1IA-1rrHP"
      },
      "source": [
        "# Normalización de datos\n",
        "Acá vamos a hacer uso de la clase **MinMaxScaler** qeue nos ayudará a normalizar los datos. Creamos dos variables, la primera obtendremos todos los valores de nuestro dataset pero excluyendo a la columna **status** y vamos a definir una variable **y** que va a obtener los valores de la columna **status**."
      ]
    },
    {
      "cell_type": "code",
      "execution_count": null,
      "metadata": {
        "id": "SOEczgssrxVP"
      },
      "outputs": [],
      "source": [
        "from sklearn.preprocessing import MinMaxScaler\n",
        "\n",
        "scaler = MinMaxScaler()\n",
        "\n",
        "x = scaler.fit_transform(parkinson_ds.loc[:, parkinson_ds.columns != 'status'].values[:, 1:])\n",
        "y = parkinson_ds.loc[:, 'status'].values\n",
        "\n"
      ]
    },
    {
      "cell_type": "markdown",
      "metadata": {
        "id": "H9WjYLixbOV6"
      },
      "source": [
        "#Modelo de entrenamiento\n",
        "\n",
        "Usaremos el método **train_test_split** para crear un conjunto de datos para entrenar, de esta manera, obtenemos el conjunto **X**, de ahí vamos a sacar el 20% para entrenar. Como podemos ver, se asignarán 4 variables, de estas, **x_train**, **x_test**, **y_train** y **y_test**."
      ]
    },
    {
      "cell_type": "code",
      "execution_count": null,
      "metadata": {
        "id": "9CfRxWP6ck1b"
      },
      "outputs": [],
      "source": [
        "from sklearn.model_selection import train_test_split\n",
        "\n",
        "x_train, x_test, y_train, y_test = train_test_split(x, y, test_size = 0.20, random_state=42)"
      ]
    },
    {
      "cell_type": "markdown",
      "metadata": {
        "id": "XnFE1hE7doVS"
      },
      "source": [
        "# Logistic Regression"
      ]
    },
    {
      "cell_type": "code",
      "execution_count": null,
      "metadata": {
        "id": "27BvYTN2eiK8"
      },
      "outputs": [],
      "source": [
        "from sklearn.linear_model import LogisticRegression\n",
        "import numpy as np # linear algebra\n",
        "\n",
        "model_logistic = LogisticRegression(random_state=42)\n"
      ]
    },
    {
      "cell_type": "markdown",
      "metadata": {
        "id": "8e9y3u2zhybK"
      },
      "source": [
        "Vamos a ajustar los parámetros del modelo **Logistic Regression** utilizando **GridSearch** que nos ayudará a obtener los parámetros más optimos para dicho modelo. \n",
        "\n",
        "Usaremos **hidden_layer_sizes** para crear las capas y las neuronas a utilizar, en nuestro caso, usaremos 4 parámetros, los dos primeros tienen dos capas y los restantes tienen solo una capa.\n",
        "\n",
        "El parámetro **max_iter** sirve para poner la cantidad máxima de iteraciones.\n",
        "\n",
        "El **alpha** es la tasa de aprendizaje."
      ]
    },
    {
      "cell_type": "code",
      "execution_count": null,
      "metadata": {
        "id": "l5V6YU-Qhx5S"
      },
      "outputs": [],
      "source": [
        "params_lg = [\n",
        "    {\n",
        "        'C' : [1e-3, 0.01, 0.1, 1, 10],  \n",
        "        'penalty':[\"l2\"],\n",
        "        'solver': ['newton-cg', 'lbfgs', 'liblinear']\n",
        "    },\n",
        "\n",
        "]"
      ]
    },
    {
      "cell_type": "markdown",
      "metadata": {
        "id": "fX8a8_SbrhDD"
      },
      "source": [
        "Aplicaremos el **GridSearchCV** y le ingresamos los parámetros anteriores, además, usaremos una validación cruzada de 5."
      ]
    },
    {
      "cell_type": "code",
      "execution_count": null,
      "metadata": {
        "id": "rRZvNfp5lE3M",
        "colab": {
          "base_uri": "https://localhost:8080/"
        },
        "outputId": "6fbf7791-e64a-4618-f3e7-22827eabc502"
      },
      "outputs": [
        {
          "output_type": "execute_result",
          "data": {
            "text/plain": [
              "GridSearchCV(cv=5, estimator=LogisticRegression(random_state=42),\n",
              "             param_grid=[{'C': [0.001, 0.01, 0.1, 1, 10], 'penalty': ['l2'],\n",
              "                          'solver': ['newton-cg', 'lbfgs', 'liblinear']}],\n",
              "             scoring='accuracy')"
            ]
          },
          "metadata": {},
          "execution_count": 356
        }
      ],
      "source": [
        "grid_search = GridSearchCV(model_logistic, params_lg, cv=5,  scoring='accuracy')\n",
        "grid_search.fit(x_train, y_train)"
      ]
    },
    {
      "cell_type": "markdown",
      "metadata": {
        "id": "e7rWPAGOUgyB"
      },
      "source": [
        "Miramos cuáles fueron los mejores parámetros."
      ]
    },
    {
      "cell_type": "code",
      "execution_count": null,
      "metadata": {
        "id": "JT_hfF4HUjx3",
        "colab": {
          "base_uri": "https://localhost:8080/"
        },
        "outputId": "7eb17da8-ca16-4048-c12f-956ae208fed9"
      },
      "outputs": [
        {
          "output_type": "execute_result",
          "data": {
            "text/plain": [
              "{'C': 1, 'penalty': 'l2', 'solver': 'newton-cg'}"
            ]
          },
          "metadata": {},
          "execution_count": 357
        }
      ],
      "source": [
        "grid_search.best_params_"
      ]
    },
    {
      "cell_type": "markdown",
      "metadata": {
        "id": "XjEoSgb8Umkf"
      },
      "source": [
        "Crearemos una variable **Ytrain_predict** que usa un método para evaluar el modelo para el conjunto de entrenamiento. Accuracy tiene el valor o precisión del entrenamiento."
      ]
    },
    {
      "cell_type": "code",
      "execution_count": null,
      "metadata": {
        "id": "0W-QvK6jUlgn",
        "colab": {
          "base_uri": "https://localhost:8080/"
        },
        "outputId": "be8bd450-edf1-4a62-eed6-4fe9624cf53a"
      },
      "outputs": [
        {
          "output_type": "stream",
          "name": "stdout",
          "text": [
            "La precisión del modelo Logistic Regression sobre el conjunto de entrenamiento es: 0.82\n"
          ]
        }
      ],
      "source": [
        "Ytrain_predict = grid_search.predict(x_train)\n",
        "\n",
        "accuracy = grid_search.score(x_train, y_train)\n",
        "\n",
        "print(f\"La precisión del modelo Logistic Regression sobre el conjunto de entrenamiento es: {accuracy:.2f}\")"
      ]
    },
    {
      "cell_type": "markdown",
      "metadata": {
        "id": "yKYYJvcjWmtP"
      },
      "source": [
        "Mostraremos la matriz de confusión del conjunto de entrenamiento."
      ]
    },
    {
      "cell_type": "code",
      "execution_count": null,
      "metadata": {
        "id": "cEepmLJ0WnoO",
        "colab": {
          "base_uri": "https://localhost:8080/"
        },
        "outputId": "3cf9c7d1-509d-47f7-fa80-b640fe68c188"
      },
      "outputs": [
        {
          "output_type": "stream",
          "name": "stdout",
          "text": [
            "[[97 20]\n",
            " [23 95]]\n",
            "              precision    recall  f1-score   support\n",
            "\n",
            "           0       0.81      0.83      0.82       117\n",
            "           1       0.83      0.81      0.82       118\n",
            "\n",
            "    accuracy                           0.82       235\n",
            "   macro avg       0.82      0.82      0.82       235\n",
            "weighted avg       0.82      0.82      0.82       235\n",
            "\n"
          ]
        }
      ],
      "source": [
        "from sklearn.metrics import confusion_matrix\n",
        "from sklearn.metrics import classification_report\n",
        "\n",
        "cmatrix = confusion_matrix(y_train, Ytrain_predict)\n",
        "print(cmatrix)\n",
        "print(classification_report(y_train, Ytrain_predict))"
      ]
    },
    {
      "cell_type": "markdown",
      "metadata": {
        "id": "Ln1P0BcQXLbL"
      },
      "source": [
        "Ahora vamos a hacer lo mismo que hicimos para obtener la predición y la precisión de la evaluación en el conjunto de datos de entrenamiento pero esta vez serán para el conjunto de datos de prueba."
      ]
    },
    {
      "cell_type": "code",
      "execution_count": null,
      "metadata": {
        "id": "0xVFoivAXMAM",
        "colab": {
          "base_uri": "https://localhost:8080/"
        },
        "outputId": "3942a353-b384-4dc4-e199-94ef2832dbcc"
      },
      "outputs": [
        {
          "output_type": "stream",
          "name": "stdout",
          "text": [
            "La precisión del modelo Logistic Regression sobre el conjunto de prueba es: 0.90\n"
          ]
        }
      ],
      "source": [
        "Ytest_predict = grid_search.predict(x_test)\n",
        "\n",
        "accuracy_test = grid_search.score(x_test, y_test)\n",
        "\n",
        "print(f\"La precisión del modelo Logistic Regression sobre el conjunto de prueba es: {accuracy_test:.2f}\")"
      ]
    },
    {
      "cell_type": "markdown",
      "source": [
        "Ahora probaremos con otros parámetros, gracias a los parámetros anteriores podemos elegir unos mejores valores."
      ],
      "metadata": {
        "id": "p8GNSBNvqEEQ"
      }
    },
    {
      "cell_type": "code",
      "source": [
        "params_lg2 = [\n",
        "    {\n",
        "        'C' : [1e-3, 0.01, 0.1, 1, 10],  \n",
        "        'penalty':['l2'],\n",
        "        'solver': ['lbfgs']\n",
        "    }\n",
        "]"
      ],
      "metadata": {
        "id": "6OnYNtabqMS9"
      },
      "execution_count": null,
      "outputs": []
    },
    {
      "cell_type": "code",
      "source": [
        "grid_search = GridSearchCV(model_logistic, params_lg2, cv=5,  scoring='accuracy')\n",
        "grid_search.fit(x_train, y_train)"
      ],
      "metadata": {
        "colab": {
          "base_uri": "https://localhost:8080/"
        },
        "id": "No-5dTfIqTjb",
        "outputId": "940d03f0-f4b8-4cba-f750-eec9ad1c8cac"
      },
      "execution_count": null,
      "outputs": [
        {
          "output_type": "execute_result",
          "data": {
            "text/plain": [
              "GridSearchCV(cv=5, estimator=LogisticRegression(random_state=42),\n",
              "             param_grid=[{'C': [0.001, 0.01, 0.1, 1, 10], 'penalty': ['l2'],\n",
              "                          'solver': ['lbfgs']}],\n",
              "             scoring='accuracy')"
            ]
          },
          "metadata": {},
          "execution_count": 409
        }
      ]
    },
    {
      "cell_type": "markdown",
      "source": [
        "Mostramos los mejores parámetros."
      ],
      "metadata": {
        "id": "osXYKdejqmls"
      }
    },
    {
      "cell_type": "code",
      "source": [
        "grid_search.best_params_"
      ],
      "metadata": {
        "colab": {
          "base_uri": "https://localhost:8080/"
        },
        "id": "AKi_zI_EqYwy",
        "outputId": "2b333f43-776e-4d12-e9b7-1870a214d2b0"
      },
      "execution_count": null,
      "outputs": [
        {
          "output_type": "execute_result",
          "data": {
            "text/plain": [
              "{'C': 1, 'penalty': 'l2', 'solver': 'lbfgs'}"
            ]
          },
          "metadata": {},
          "execution_count": 412
        }
      ]
    },
    {
      "cell_type": "markdown",
      "source": [
        "\n",
        "Volvemos a obtener la predición y la precisión del conjunto de datos de entrenamiento.\n"
      ],
      "metadata": {
        "id": "B3JaIdz1rflC"
      }
    },
    {
      "cell_type": "code",
      "source": [
        "Ytrain_predict = grid_search.predict(x_train)\n",
        "\n",
        "accuracy = grid_search.score(x_train, y_train)\n",
        "\n",
        "print(f\"La precisión del modelo Logistic Regression sobre el conjunto de entrenamiento es: {accuracy:.2f}\")"
      ],
      "metadata": {
        "colab": {
          "base_uri": "https://localhost:8080/"
        },
        "id": "BsDuuS-qrtGN",
        "outputId": "1afe5594-16de-4143-d722-07fe91401ede"
      },
      "execution_count": null,
      "outputs": [
        {
          "output_type": "stream",
          "name": "stdout",
          "text": [
            "La precisión del modelo Logistic Regression sobre el conjunto de entrenamiento es: 0.82\n"
          ]
        }
      ]
    },
    {
      "cell_type": "markdown",
      "source": [
        "Comprobamos la precisión del conjunto de prueba."
      ],
      "metadata": {
        "id": "Wq7hE3I4sHDL"
      }
    },
    {
      "cell_type": "code",
      "source": [
        "Ytest_predict = grid_search.predict(x_test)\n",
        "\n",
        "accuracy_test = grid_search.score(x_test, y_test)\n",
        "\n",
        "print(f\"La precisión del modelo Logistic Regression sobre el conjunto de prueba es: {accuracy_test:.2f}\")"
      ],
      "metadata": {
        "colab": {
          "base_uri": "https://localhost:8080/"
        },
        "id": "X7Eeop-WsIp6",
        "outputId": "fe77019b-fe7f-4424-ace3-46415da57744"
      },
      "execution_count": null,
      "outputs": [
        {
          "output_type": "stream",
          "name": "stdout",
          "text": [
            "La precisión del modelo Logistic Regression sobre el conjunto de prueba es: 0.90\n"
          ]
        }
      ]
    },
    {
      "cell_type": "markdown",
      "metadata": {
        "id": "BIeCAHG4lG7p"
      },
      "source": [
        "# Decision Tree Classifier\n",
        "\n"
      ]
    },
    {
      "cell_type": "code",
      "execution_count": null,
      "metadata": {
        "id": "4K-NGuL0uXtC"
      },
      "outputs": [],
      "source": [
        "from sklearn.tree import DecisionTreeClassifier\n",
        "\n",
        "model_decisionTree = DecisionTreeClassifier()\n"
      ]
    },
    {
      "cell_type": "markdown",
      "metadata": {
        "id": "Ur-Ypp2VvKCO"
      },
      "source": [
        "En este caso vamos a crear una variable que va a obtener los parámetros que utilizará nuestro árbol de decisión, usaremos **GridSearch**. Para esto, usaremos varios criterios como **entropy** y **gini**, una lista de **n_estimators**, un **splitter** con **best** y **random**, una lista de **min_samples_split** y una lista de **max_depth** que en este caso, sería la máxima profundidad que nodos que realizará el árbol de decisión, con estos parámetros, vamos a obtener la mejor configuración para el modelo."
      ]
    },
    {
      "cell_type": "code",
      "execution_count": null,
      "metadata": {
        "id": "btBOi7zMuwyj"
      },
      "outputs": [],
      "source": [
        "params_tree = [\n",
        "    {\n",
        "        'criterion' : ['entropy', 'gini'],\n",
        "        'splitter' : ['best', 'random'],\n",
        "        'min_samples_split':[50, 120, 130, 150, 200], \n",
        "        'max_depth' : [30, 50, 100]\n",
        "    }\n",
        "]"
      ]
    },
    {
      "cell_type": "markdown",
      "metadata": {
        "id": "GT6NDKJ1yZNS"
      },
      "source": [
        "Le asignamos el modelo, los parámetros y el cv en 5, donde **cv (validación cruzada)** es el número de particiones que se realizará y luego usamos el método **fit** para entrenar al modelo, le pasamos como parámetros el **x_train** y el **y_train**."
      ]
    },
    {
      "cell_type": "code",
      "execution_count": null,
      "metadata": {
        "id": "Cvtwcscgysg7",
        "colab": {
          "base_uri": "https://localhost:8080/"
        },
        "outputId": "f8a204f4-a52f-4963-effb-9ef209838e5b"
      },
      "outputs": [
        {
          "output_type": "execute_result",
          "data": {
            "text/plain": [
              "GridSearchCV(cv=5, estimator=DecisionTreeClassifier(),\n",
              "             param_grid=[{'criterion': ['entropy', 'gini'],\n",
              "                          'max_depth': [30, 50, 100],\n",
              "                          'min_samples_split': [50, 120, 130, 150, 200],\n",
              "                          'splitter': ['best', 'random']}],\n",
              "             scoring='accuracy')"
            ]
          },
          "metadata": {},
          "execution_count": 156
        }
      ],
      "source": [
        "grid_search = GridSearchCV(model_decisionTree, params_tree, cv=5,  scoring='accuracy')\n",
        "grid_search.fit(x_train, y_train)"
      ]
    },
    {
      "cell_type": "markdown",
      "metadata": {
        "id": "xKlP4S6x0_nD"
      },
      "source": [
        "Imprimimos los mejores parámetros:"
      ]
    },
    {
      "cell_type": "code",
      "execution_count": null,
      "metadata": {
        "id": "wgmtwHkD0_W8",
        "colab": {
          "base_uri": "https://localhost:8080/"
        },
        "outputId": "7ce367fc-00a8-410f-9843-5fbde722550d"
      },
      "outputs": [
        {
          "output_type": "execute_result",
          "data": {
            "text/plain": [
              "{'criterion': 'entropy',\n",
              " 'max_depth': 30,\n",
              " 'min_samples_split': 50,\n",
              " 'splitter': 'best'}"
            ]
          },
          "metadata": {},
          "execution_count": 157
        }
      ],
      "source": [
        "grid_search.best_params_"
      ]
    },
    {
      "cell_type": "markdown",
      "metadata": {
        "id": "s4Zgw4Nd2jfF"
      },
      "source": [
        "Crearemos una variable **Ytrain_predict** que usa un método para evaluar el modelo para el conjunto de entrenamiento. **Accuracy** tiene el valor o precisión del entrenamiento."
      ]
    },
    {
      "cell_type": "code",
      "execution_count": null,
      "metadata": {
        "id": "2QhxYe2w25Q8",
        "colab": {
          "base_uri": "https://localhost:8080/"
        },
        "outputId": "81c4f18b-388d-4a86-9470-29e606f95e36"
      },
      "outputs": [
        {
          "output_type": "stream",
          "name": "stdout",
          "text": [
            "La precisión del árbol de decisión de clasificación sobre el conjunto de entrenamiento es: 0.88\n"
          ]
        }
      ],
      "source": [
        "Ytrain_predict = grid_search.predict(x_train)\n",
        "\n",
        "accuracy = grid_search.score(x_train, y_train)\n",
        "\n",
        "print(f\"La precisión del árbol de decisión de clasificación sobre el conjunto de entrenamiento es: {accuracy:.2f}\")\n",
        "\n"
      ]
    },
    {
      "cell_type": "markdown",
      "metadata": {
        "id": "PVyTUlyR7zGL"
      },
      "source": [
        "Mostraremos la matriz de confusión y el reporte de clasificación del conjunto de datos de entrenamiento."
      ]
    },
    {
      "cell_type": "code",
      "execution_count": null,
      "metadata": {
        "id": "ZocA2bQ-7znv",
        "colab": {
          "base_uri": "https://localhost:8080/"
        },
        "outputId": "c1a38afe-9e17-4553-e42d-6ec2c8d54a01"
      },
      "outputs": [
        {
          "output_type": "stream",
          "name": "stdout",
          "text": [
            "[[115   2]\n",
            " [ 27  91]]\n",
            "              precision    recall  f1-score   support\n",
            "\n",
            "           0       0.81      0.98      0.89       117\n",
            "           1       0.98      0.77      0.86       118\n",
            "\n",
            "    accuracy                           0.88       235\n",
            "   macro avg       0.89      0.88      0.88       235\n",
            "weighted avg       0.89      0.88      0.88       235\n",
            "\n"
          ]
        }
      ],
      "source": [
        "cmatrix = confusion_matrix(y_train, Ytrain_predict)\n",
        "print(cmatrix)\n",
        "print(classification_report(y_train, Ytrain_predict))"
      ]
    },
    {
      "cell_type": "markdown",
      "metadata": {
        "id": "im0eJI9B8mxj"
      },
      "source": [
        "Ahora evaluaremos la precisión del conjunto de prueba, para esto, tenemos una variable **Ytest_predict** que evalua el conjunto de prueba."
      ]
    },
    {
      "cell_type": "code",
      "execution_count": null,
      "metadata": {
        "id": "xUwSh91r8nJc",
        "colab": {
          "base_uri": "https://localhost:8080/"
        },
        "outputId": "dc3481cf-c2c8-4551-f719-f1c100429b5a"
      },
      "outputs": [
        {
          "output_type": "stream",
          "name": "stdout",
          "text": [
            "La precisión del árbol de decisión de clasificación sobre el conjunto de prueba es: 0.86\n"
          ]
        }
      ],
      "source": [
        "Ytest_predict = grid_search.predict(x_test)\n",
        "\n",
        "accuracy_test = grid_search.score(x_test, y_test)\n",
        "\n",
        "print(f\"La precisión del árbol de decisión de clasificación sobre el conjunto de prueba es: {accuracy_test:.2f}\")"
      ]
    },
    {
      "cell_type": "markdown",
      "metadata": {
        "id": "dog2csmr_kJ8"
      },
      "source": [
        "Mostraremos la matriz de confusión y el reporte de clasificación del conjunto de datos de prueba."
      ]
    },
    {
      "cell_type": "code",
      "execution_count": null,
      "metadata": {
        "id": "z2B67Tzy_kbc",
        "colab": {
          "base_uri": "https://localhost:8080/"
        },
        "outputId": "926a596e-d662-4096-a403-b02dec1c39af"
      },
      "outputs": [
        {
          "output_type": "stream",
          "name": "stdout",
          "text": [
            "[[29  1]\n",
            " [ 7 22]]\n",
            "              precision    recall  f1-score   support\n",
            "\n",
            "           0       0.81      0.97      0.88        30\n",
            "           1       0.96      0.76      0.85        29\n",
            "\n",
            "    accuracy                           0.86        59\n",
            "   macro avg       0.88      0.86      0.86        59\n",
            "weighted avg       0.88      0.86      0.86        59\n",
            "\n"
          ]
        }
      ],
      "source": [
        "cmatrix = confusion_matrix(y_test, Ytest_predict)\n",
        "print(cmatrix)\n",
        "print(classification_report(y_test, Ytest_predict))"
      ]
    },
    {
      "cell_type": "markdown",
      "source": [
        "Creamos unos nuevos parámetros gracias a los mejores resultados dado por el grid_Search."
      ],
      "metadata": {
        "id": "mrtz27oP6vjN"
      }
    },
    {
      "cell_type": "code",
      "execution_count": null,
      "metadata": {
        "id": "DWjMKm_13_Yy"
      },
      "outputs": [],
      "source": [
        "\n",
        "params_tree2 = [\n",
        "    {\n",
        "        'criterion' : ['entropy', 'gini'],\n",
        "        'splitter' : ['best', 'random'],\n",
        "        'min_samples_split':[10, 20, 25], \n",
        "        'max_depth' : [10, 20, 25, 30]\n",
        "    }\n",
        "]"
      ]
    },
    {
      "cell_type": "markdown",
      "metadata": {
        "id": "6XefG6Y2ESs-"
      },
      "source": [
        "Entrenamos nuevamente pero esta vez con parámetros diferentes."
      ]
    },
    {
      "cell_type": "code",
      "execution_count": null,
      "metadata": {
        "id": "4g5dUq4IETzb",
        "colab": {
          "base_uri": "https://localhost:8080/"
        },
        "outputId": "cd7cca0f-366e-406e-bf13-b018753b9f57"
      },
      "outputs": [
        {
          "output_type": "execute_result",
          "data": {
            "text/plain": [
              "GridSearchCV(cv=5, estimator=DecisionTreeClassifier(),\n",
              "             param_grid=[{'criterion': ['entropy', 'gini'],\n",
              "                          'max_depth': [10, 20, 25, 30],\n",
              "                          'min_samples_split': [10, 20, 25],\n",
              "                          'splitter': ['best', 'random']}],\n",
              "             scoring='accuracy')"
            ]
          },
          "metadata": {},
          "execution_count": 201
        }
      ],
      "source": [
        "grid_search = GridSearchCV(model_decisionTree, params_tree2, cv=5,  scoring='accuracy')\n",
        "grid_search.fit(x_train, y_train)"
      ]
    },
    {
      "cell_type": "markdown",
      "metadata": {
        "id": "cOO7ZjlKExOm"
      },
      "source": [
        "Imprimimos los mejores parámetros:"
      ]
    },
    {
      "cell_type": "code",
      "execution_count": null,
      "metadata": {
        "id": "aW-0g_tWExFc",
        "colab": {
          "base_uri": "https://localhost:8080/"
        },
        "outputId": "38b8fc81-f4f0-4a8f-9882-28de12b63203"
      },
      "outputs": [
        {
          "output_type": "execute_result",
          "data": {
            "text/plain": [
              "{'criterion': 'gini',\n",
              " 'max_depth': 30,\n",
              " 'min_samples_split': 10,\n",
              " 'splitter': 'best'}"
            ]
          },
          "metadata": {},
          "execution_count": 202
        }
      ],
      "source": [
        "grid_search.best_params_"
      ]
    },
    {
      "cell_type": "markdown",
      "metadata": {
        "id": "pcBCNAWdFEAN"
      },
      "source": [
        "Evaluamos nuevamente el conjunto de entrenamiento."
      ]
    },
    {
      "cell_type": "code",
      "execution_count": null,
      "metadata": {
        "id": "kGiaWh9HFEL9",
        "colab": {
          "base_uri": "https://localhost:8080/"
        },
        "outputId": "1fe235c7-2533-4ade-c71a-7b40bd358e15"
      },
      "outputs": [
        {
          "output_type": "stream",
          "name": "stdout",
          "text": [
            "La precisión del árbol de decisión de clasificación sobre el conjunto de entrenamiento es: 0.99\n"
          ]
        }
      ],
      "source": [
        "Ytrain_predict = grid_search.predict(x_train)\n",
        "\n",
        "accuracy = grid_search.score(x_train, y_train)\n",
        "\n",
        "print(f\"La precisión del árbol de decisión de clasificación sobre el conjunto de entrenamiento es: {accuracy:.2f}\")"
      ]
    },
    {
      "cell_type": "markdown",
      "metadata": {
        "id": "csF2P_otFdwr"
      },
      "source": [
        "Mostramos su matriz de confusión y el reporte de clasificación del entrenamiento."
      ]
    },
    {
      "cell_type": "code",
      "execution_count": null,
      "metadata": {
        "id": "2YBSS7PUFdqb",
        "colab": {
          "base_uri": "https://localhost:8080/"
        },
        "outputId": "16a9561a-db6b-472a-dd77-db48e29115d0"
      },
      "outputs": [
        {
          "output_type": "stream",
          "name": "stdout",
          "text": [
            "[[116   1]\n",
            " [  1 117]]\n",
            "              precision    recall  f1-score   support\n",
            "\n",
            "           0       0.99      0.99      0.99       117\n",
            "           1       0.99      0.99      0.99       118\n",
            "\n",
            "    accuracy                           0.99       235\n",
            "   macro avg       0.99      0.99      0.99       235\n",
            "weighted avg       0.99      0.99      0.99       235\n",
            "\n"
          ]
        }
      ],
      "source": [
        "from sklearn.metrics import confusion_matrix\n",
        "from sklearn.metrics import classification_report\n",
        "\n",
        "cmatrix = confusion_matrix(y_train, Ytrain_predict)\n",
        "print(cmatrix)\n",
        "print(classification_report(y_train, Ytrain_predict))"
      ]
    },
    {
      "cell_type": "markdown",
      "metadata": {
        "id": "Fwef2HCQF-X7"
      },
      "source": [
        "Evaluamos nuevamente el conjunto de prueba."
      ]
    },
    {
      "cell_type": "code",
      "execution_count": null,
      "metadata": {
        "id": "glfOBFDDF-3T",
        "colab": {
          "base_uri": "https://localhost:8080/"
        },
        "outputId": "be211ab7-c6ac-4836-ef3a-8c5d7ac5c795"
      },
      "outputs": [
        {
          "output_type": "stream",
          "name": "stdout",
          "text": [
            "La precisión del árbol de decisión de clasificación sobre el conjunto de prueba es: 1.00\n"
          ]
        }
      ],
      "source": [
        "Ytest_predict = grid_search.predict(x_test)\n",
        "\n",
        "accuracy_test = grid_search.score(x_test, y_test)\n",
        "\n",
        "print(f\"La precisión del árbol de decisión de clasificación sobre el conjunto de prueba es: {accuracy_test:.2f}\")"
      ]
    },
    {
      "cell_type": "markdown",
      "metadata": {
        "id": "jpXFCY_xGSrz"
      },
      "source": [
        "Mostramos su matriz de confusión y el reporte de clasificación del conjunto de datos de prueba."
      ]
    },
    {
      "cell_type": "code",
      "execution_count": null,
      "metadata": {
        "id": "BX87pqh_GiIG",
        "colab": {
          "base_uri": "https://localhost:8080/"
        },
        "outputId": "d833cab8-b2f8-4e73-dcd9-b6566f2a34e6"
      },
      "outputs": [
        {
          "output_type": "stream",
          "name": "stdout",
          "text": [
            "[[30  0]\n",
            " [ 0 29]]\n",
            "              precision    recall  f1-score   support\n",
            "\n",
            "           0       1.00      1.00      1.00        30\n",
            "           1       1.00      1.00      1.00        29\n",
            "\n",
            "    accuracy                           1.00        59\n",
            "   macro avg       1.00      1.00      1.00        59\n",
            "weighted avg       1.00      1.00      1.00        59\n",
            "\n"
          ]
        }
      ],
      "source": [
        "cmatrix = confusion_matrix(y_test, Ytest_predict)\n",
        "print(cmatrix)\n",
        "print(classification_report(y_test, Ytest_predict))"
      ]
    },
    {
      "cell_type": "markdown",
      "metadata": {
        "id": "eqxivlRPL_6c"
      },
      "source": [
        "# Random Forest"
      ]
    },
    {
      "cell_type": "code",
      "source": [
        "from sklearn.ensemble import RandomForestClassifier\n",
        "model_randomForest = RandomForestClassifier()"
      ],
      "metadata": {
        "id": "3Qqta_iPmWiX"
      },
      "execution_count": null,
      "outputs": []
    },
    {
      "cell_type": "markdown",
      "source": [
        "En este caso crearemos una variable que va a obtener los parámetros que utilizará nuestro árbol de decisión, usaremos **GridSearch**. Para esto, tenemos varios criterios como **entropy** y **gini**, una lista de **n_estimators** haciendo referencia a numero de nodos, un **max_features** haciendo referencia a la reparticion de las caracteristicas con respecto a los datos base con **sqrt** y **log2**, una lista de **min_samples_split** que significa la division de los nodos internos del bosque aleatorio y una lista de **max_depth** que en este caso, sería la máxima profundidad de nodos que realizará el bosque aleatorio, con estos parámetros, vamos a hacer la primera prueba del modelo."
      ],
      "metadata": {
        "id": "9qGqRBHGb53j"
      }
    },
    {
      "cell_type": "code",
      "source": [
        "param_grid = { \n",
        "    'n_estimators': [10],\n",
        "    'max_features': ['sqrt','log2'],\n",
        "    'max_depth' : [15],\n",
        "    'min_samples_split':[4],\n",
        "    'criterion' : ['gini', 'entropy']\n",
        "}"
      ],
      "metadata": {
        "id": "aXF5kB7Jmq5a"
      },
      "execution_count": null,
      "outputs": []
    },
    {
      "cell_type": "markdown",
      "metadata": {
        "id": "6aqi6OswdJtm"
      },
      "source": [
        "Le asignamos el modelo, los parámetros y el cv en 5, donde **cv (validación cruzada)** es el número de particiones que se realizará y luego usamos el método **fit** para entrenar al modelo, le pasamos como parámetros el **x_train** y el **y_train**."
      ]
    },
    {
      "cell_type": "code",
      "source": [
        "CV_rfc = GridSearchCV(model_randomForest, param_grid, cv= 5, scoring = 'accuracy')\n",
        "CV_rfc.fit(x_train, y_train)"
      ],
      "metadata": {
        "id": "meazHSGNmsxy",
        "colab": {
          "base_uri": "https://localhost:8080/"
        },
        "outputId": "43f9fa73-8c49-4aa1-bf14-4e411b4cdbdf"
      },
      "execution_count": null,
      "outputs": [
        {
          "output_type": "execute_result",
          "data": {
            "text/plain": [
              "GridSearchCV(cv=5, estimator=RandomForestClassifier(),\n",
              "             param_grid={'criterion': ['gini', 'entropy'], 'max_depth': [15],\n",
              "                         'max_features': ['sqrt', 'log2'],\n",
              "                         'min_samples_split': [4], 'n_estimators': [10]},\n",
              "             scoring='accuracy')"
            ]
          },
          "metadata": {},
          "execution_count": 168
        }
      ]
    },
    {
      "cell_type": "markdown",
      "metadata": {
        "id": "NRybQK6udU4m"
      },
      "source": [
        "Imprimimos los mejores parámetros:"
      ]
    },
    {
      "cell_type": "code",
      "source": [
        "CV_rfc.best_params_"
      ],
      "metadata": {
        "id": "_iKd7ah3muqE",
        "colab": {
          "base_uri": "https://localhost:8080/"
        },
        "outputId": "3428540c-6cd8-4d52-8573-7690e1c98f92"
      },
      "execution_count": null,
      "outputs": [
        {
          "output_type": "execute_result",
          "data": {
            "text/plain": [
              "{'criterion': 'gini',\n",
              " 'max_depth': 15,\n",
              " 'max_features': 'log2',\n",
              " 'min_samples_split': 4,\n",
              " 'n_estimators': 10}"
            ]
          },
          "metadata": {},
          "execution_count": 191
        }
      ]
    },
    {
      "cell_type": "markdown",
      "source": [
        "Crearemos una variable **Ytrain_predict** que usa un método para evaluar el modelo para el conjunto de entrenamiento. **Accuracy** tiene el valor o precisión del entrenamiento."
      ],
      "metadata": {
        "id": "_L6Sxs3zdm0_"
      }
    },
    {
      "cell_type": "code",
      "source": [
        "Ytrain_predict = CV_rfc.predict(x_train)\n",
        "\n",
        "accuracy = CV_rfc.score(x_train, y_train)\n",
        "print(f\"La precisión del árbol de decisión de clasificación sobre el conjunto de entrenamiento es: {accuracy:.2f}\")"
      ],
      "metadata": {
        "id": "gpc37l3XmzoN",
        "colab": {
          "base_uri": "https://localhost:8080/"
        },
        "outputId": "3a8e3fb1-ed80-4ba5-d992-1dcd5c64d8f8"
      },
      "execution_count": null,
      "outputs": [
        {
          "output_type": "stream",
          "name": "stdout",
          "text": [
            "La precisión del árbol de decisión de clasificación sobre el conjunto de entrenamiento es: 1.00\n"
          ]
        }
      ]
    },
    {
      "cell_type": "markdown",
      "source": [
        "Mostraremos la matriz de confusión y el reporte de clasificación del conjunto de datos de entrenamiento."
      ],
      "metadata": {
        "id": "xByr-oqudvHK"
      }
    },
    {
      "cell_type": "code",
      "source": [
        "from sklearn.metrics import confusion_matrix\n",
        "from sklearn.metrics import classification_report\n",
        "\n",
        "cmatrix = confusion_matrix(y_train, Ytrain_predict)\n",
        "print(cmatrix)\n",
        "print(classification_report(y_train, Ytrain_predict))"
      ],
      "metadata": {
        "id": "IBOB0T84m4aj",
        "colab": {
          "base_uri": "https://localhost:8080/"
        },
        "outputId": "4e50fc0e-c4e8-4c1f-c512-df8641d1cbc0"
      },
      "execution_count": null,
      "outputs": [
        {
          "output_type": "stream",
          "name": "stdout",
          "text": [
            "[[117   0]\n",
            " [  0 118]]\n",
            "              precision    recall  f1-score   support\n",
            "\n",
            "           0       1.00      1.00      1.00       117\n",
            "           1       1.00      1.00      1.00       118\n",
            "\n",
            "    accuracy                           1.00       235\n",
            "   macro avg       1.00      1.00      1.00       235\n",
            "weighted avg       1.00      1.00      1.00       235\n",
            "\n"
          ]
        }
      ]
    },
    {
      "cell_type": "markdown",
      "source": [
        "Ahora evaluaremos la precisión del conjunto de prueba, para esto, tenemos una variable Ytest_predict que evalua el conjunto de prueba."
      ],
      "metadata": {
        "id": "PacW3Vyzd3yE"
      }
    },
    {
      "cell_type": "code",
      "source": [
        "Ytest_predict = grid_search.predict(x_test)\n",
        "\n",
        "accuracy_test = grid_search.score(x_test, y_test)\n",
        "\n",
        "print(f\"La precisión del árbol de decisión de clasificación sobre el conjunto de prueba es: {accuracy_test:.2f}\")"
      ],
      "metadata": {
        "id": "6kkYZstrm6cS",
        "colab": {
          "base_uri": "https://localhost:8080/"
        },
        "outputId": "01a9c43b-0949-4dcb-af3e-76389cab3add"
      },
      "execution_count": null,
      "outputs": [
        {
          "output_type": "stream",
          "name": "stdout",
          "text": [
            "La precisión del árbol de decisión de clasificación sobre el conjunto de prueba es: 0.86\n"
          ]
        }
      ]
    },
    {
      "cell_type": "markdown",
      "metadata": {
        "id": "cEZOkWyMeIzF"
      },
      "source": [
        "Mostraremos la matriz de confusión y el reporte de clasificación del conjunto de datos de prueba."
      ]
    },
    {
      "cell_type": "code",
      "source": [
        "cmatrix = confusion_matrix(y_test, Ytest_predict)\n",
        "print(cmatrix)\n",
        "print(classification_report(y_test, Ytest_predict))"
      ],
      "metadata": {
        "id": "2a1eJMR-m8GF",
        "colab": {
          "base_uri": "https://localhost:8080/"
        },
        "outputId": "f6f02062-2e5f-486d-8ab4-686225ff45e1"
      },
      "execution_count": null,
      "outputs": [
        {
          "output_type": "stream",
          "name": "stdout",
          "text": [
            "[[29  1]\n",
            " [ 7 22]]\n",
            "              precision    recall  f1-score   support\n",
            "\n",
            "           0       0.81      0.97      0.88        30\n",
            "           1       0.96      0.76      0.85        29\n",
            "\n",
            "    accuracy                           0.86        59\n",
            "   macro avg       0.88      0.86      0.86        59\n",
            "weighted avg       0.88      0.86      0.86        59\n",
            "\n"
          ]
        }
      ]
    },
    {
      "cell_type": "markdown",
      "source": [
        "**Prueba con otros parámetros en RandomForest**"
      ],
      "metadata": {
        "id": "YHZxAQp-m9rD"
      }
    },
    {
      "cell_type": "markdown",
      "source": [
        "En este caso crearemos una variable que va a obtener los parámetros que utilizará nuestro árbol de decisión para nuestra segunda prueba, usaremos **GridSearch**. Para esto, tenemos varios criterios como **entropy** y **gini**, una lista de **n_estimators** haciendo referencia a numero de nodos, un **max_features** haciendo referencia a la reparticion de las caracteristicas con respecto a los datos base con **sqrt** y **log2**, una lista de **min_samples_split** que significa la division de los nodos internos del bosque aleatorio y una lista de **max_depth** que en este caso, sería la máxima profundidad de nodos que realizará el bosque aleatorio, con estos parámetros, vamos a hacer la primera prueba del modelo."
      ],
      "metadata": {
        "id": "MLWxLzJIePgP"
      }
    },
    {
      "cell_type": "code",
      "source": [
        "param_grid2 = { \n",
        "    'n_estimators': [10, 15],\n",
        "    'max_features': ['log2'],\n",
        "    'max_depth' : [60, 65, 70],\n",
        "    'min_samples_split':[2, 4, 8],\n",
        "    'criterion' : ['gini']\n",
        "}"
      ],
      "metadata": {
        "id": "Y6MSa5bNnCqa"
      },
      "execution_count": null,
      "outputs": []
    },
    {
      "cell_type": "markdown",
      "metadata": {
        "id": "oKfrdGQYfxYT"
      },
      "source": [
        "Le asignamos el modelo, los parámetros y el cv en 5, donde **cv (validación cruzada)** es el número de particiones que se realizará y luego usamos el método **fit** para entrenar al modelo, le pasamos como parámetros el **x_train** y el **y_train**."
      ]
    },
    {
      "cell_type": "code",
      "source": [
        "CV_rfc1 = GridSearchCV(model_randomForest, param_grid2, cv= 5, scoring = 'accuracy')\n",
        "CV_rfc1.fit(x_train, y_train)"
      ],
      "metadata": {
        "id": "FevrjFL4nDj1",
        "colab": {
          "base_uri": "https://localhost:8080/"
        },
        "outputId": "c8cbf7cf-b9cc-43d4-996b-b8277f43738f"
      },
      "execution_count": null,
      "outputs": [
        {
          "output_type": "execute_result",
          "data": {
            "text/plain": [
              "GridSearchCV(cv=5, estimator=RandomForestClassifier(),\n",
              "             param_grid={'criterion': ['gini'], 'max_depth': [60, 65, 70],\n",
              "                         'max_features': ['log2'],\n",
              "                         'min_samples_split': [2, 4, 8],\n",
              "                         'n_estimators': [10, 15]},\n",
              "             scoring='accuracy')"
            ]
          },
          "metadata": {},
          "execution_count": 212
        }
      ]
    },
    {
      "cell_type": "markdown",
      "source": [
        "Imprimimos los mejores parámetros:"
      ],
      "metadata": {
        "id": "Y9rpH8u_f2uP"
      }
    },
    {
      "cell_type": "code",
      "source": [
        "CV_rfc1.best_params_"
      ],
      "metadata": {
        "id": "kh_SIhXNnIQx",
        "colab": {
          "base_uri": "https://localhost:8080/"
        },
        "outputId": "4588a9fa-bcd8-4ace-9064-d45a6bc76ce2"
      },
      "execution_count": null,
      "outputs": [
        {
          "output_type": "execute_result",
          "data": {
            "text/plain": [
              "{'criterion': 'gini',\n",
              " 'max_depth': 70,\n",
              " 'max_features': 'log2',\n",
              " 'min_samples_split': 8,\n",
              " 'n_estimators': 15}"
            ]
          },
          "metadata": {},
          "execution_count": 213
        }
      ]
    },
    {
      "cell_type": "markdown",
      "source": [
        "Crearemos una variable Ytrain_predict que usa un método para evaluar el modelo para el conjunto de entrenamiento. Accuracy tiene el valor o precisión del entrenamiento."
      ],
      "metadata": {
        "id": "5j0cJSZOf_hy"
      }
    },
    {
      "cell_type": "code",
      "source": [
        "Ytrain_predict = CV_rfc1.predict(x_train)\n",
        "\n",
        "accuracy = CV_rfc1.score(x_train,y_train)\n",
        "\n",
        "print(f\"La precisión del árbol de decisión de clasificación sobre el conjunto de entrenamiento es: {accuracy:.2f}\")"
      ],
      "metadata": {
        "id": "1Ljj3iannJz5",
        "colab": {
          "base_uri": "https://localhost:8080/"
        },
        "outputId": "0c5d282b-f3e2-4723-b34f-c760f0e02617"
      },
      "execution_count": null,
      "outputs": [
        {
          "output_type": "stream",
          "name": "stdout",
          "text": [
            "La precisión del árbol de decisión de clasificación sobre el conjunto de entrenamiento es: 0.99\n"
          ]
        }
      ]
    },
    {
      "cell_type": "markdown",
      "source": [
        "Mostraremos la matriz de confusión y el reporte de clasificación del conjunto de datos de entrenamiento."
      ],
      "metadata": {
        "id": "7jerR8XAgKac"
      }
    },
    {
      "cell_type": "code",
      "source": [
        "from sklearn.metrics import confusion_matrix\n",
        "from sklearn.metrics import classification_report\n",
        "cmatrix = confusion_matrix(y_train, Ytrain_predict)\n",
        "print(cmatrix)\n",
        "print(classification_report(y_train, Ytrain_predict))"
      ],
      "metadata": {
        "id": "UmTmhFr2nMDm",
        "colab": {
          "base_uri": "https://localhost:8080/"
        },
        "outputId": "ff7c3521-b117-4547-e991-f9e37b490b8a"
      },
      "execution_count": null,
      "outputs": [
        {
          "output_type": "stream",
          "name": "stdout",
          "text": [
            "[[116   1]\n",
            " [  2 116]]\n",
            "              precision    recall  f1-score   support\n",
            "\n",
            "           0       0.98      0.99      0.99       117\n",
            "           1       0.99      0.98      0.99       118\n",
            "\n",
            "    accuracy                           0.99       235\n",
            "   macro avg       0.99      0.99      0.99       235\n",
            "weighted avg       0.99      0.99      0.99       235\n",
            "\n"
          ]
        }
      ]
    },
    {
      "cell_type": "markdown",
      "source": [
        "Ahora evaluaremos la precisión del conjunto de prueba, para esto, tenemos una variable Ytest_predict que evalua el conjunto de prueba."
      ],
      "metadata": {
        "id": "JtjwMVl5gb1l"
      }
    },
    {
      "cell_type": "code",
      "source": [
        "test_predict = grid_search.predict(x_test)\n",
        "\n",
        "accuracy_test = grid_search.score(x_test, y_test)\n",
        "\n",
        "print(f\"La precisión del árbol de decisión de clasificación sobre el conjunto de prueba es: {accuracy_test:.2f}\")"
      ],
      "metadata": {
        "id": "gFvsHwC3nN90",
        "colab": {
          "base_uri": "https://localhost:8080/"
        },
        "outputId": "afd9cce0-ede4-4e88-974e-9bb55121e932"
      },
      "execution_count": null,
      "outputs": [
        {
          "output_type": "stream",
          "name": "stdout",
          "text": [
            "La precisión del árbol de decisión de clasificación sobre el conjunto de prueba es: 1.00\n"
          ]
        }
      ]
    },
    {
      "cell_type": "markdown",
      "source": [
        "Ahora evaluaremos la precisión del conjunto de prueba, para esto, tenemos una variable Ytest_predict que evalua el conjunto de prueba."
      ],
      "metadata": {
        "id": "zcIJiUYWgjkc"
      }
    },
    {
      "cell_type": "code",
      "source": [
        "cmatrix = confusion_matrix(y_test, Ytest_predict)\n",
        "print(cmatrix)\n",
        "print(classification_report(y_test, Ytest_predict))"
      ],
      "metadata": {
        "id": "wjDUx9sNnPbK",
        "colab": {
          "base_uri": "https://localhost:8080/"
        },
        "outputId": "44d47e9a-61d8-491c-eb41-e366c5d78fb2"
      },
      "execution_count": null,
      "outputs": [
        {
          "output_type": "stream",
          "name": "stdout",
          "text": [
            "[[29  1]\n",
            " [ 7 22]]\n",
            "              precision    recall  f1-score   support\n",
            "\n",
            "           0       0.81      0.97      0.88        30\n",
            "           1       0.96      0.76      0.85        29\n",
            "\n",
            "    accuracy                           0.86        59\n",
            "   macro avg       0.88      0.86      0.86        59\n",
            "weighted avg       0.88      0.86      0.86        59\n",
            "\n"
          ]
        }
      ]
    },
    {
      "cell_type": "markdown",
      "metadata": {
        "id": "fMF_KNY7WN-u"
      },
      "source": [
        "# MLP Classifier\n"
      ]
    },
    {
      "cell_type": "markdown",
      "metadata": {
        "id": "6pVaeJGlXy_k"
      },
      "source": [
        "Se mostrara el desempeño de las redes neuronales para este problema, los parametros escogidos son resultado de varias pruebas."
      ]
    },
    {
      "cell_type": "code",
      "source": [
        "param_grid = [{'hidden_layer_sizes' : [(5,5), (20,20), (50,50)], 'max_iter':[700,1000]}, \n",
        "              {'alpha': [0.001, 0.01, 0.1]}]"
      ],
      "metadata": {
        "id": "4DqhLoNgrzca"
      },
      "execution_count": null,
      "outputs": []
    },
    {
      "cell_type": "markdown",
      "source": [
        "Se realizan las pruebas con el fin de encontrar la combinacion de parametros con mejor resultado. "
      ],
      "metadata": {
        "id": "wDGC9wW5r3Yz"
      }
    },
    {
      "cell_type": "code",
      "source": [
        "model = MLPClassifier()\n",
        "grid_search = GridSearchCV(model, param_grid, cv=5, scoring='accuracy')\n",
        "grid_search.fit(x_train, y_train)\n",
        "print(grid_search.best_params_)"
      ],
      "metadata": {
        "colab": {
          "base_uri": "https://localhost:8080/"
        },
        "id": "I-tZURfqr986",
        "outputId": "7bf38567-eaac-41f7-8334-e2c80bee6df4"
      },
      "execution_count": null,
      "outputs": [
        {
          "output_type": "stream",
          "name": "stderr",
          "text": [
            "/usr/local/lib/python3.7/dist-packages/sklearn/neural_network/_multilayer_perceptron.py:696: ConvergenceWarning: Stochastic Optimizer: Maximum iterations (700) reached and the optimization hasn't converged yet.\n",
            "  ConvergenceWarning,\n",
            "/usr/local/lib/python3.7/dist-packages/sklearn/neural_network/_multilayer_perceptron.py:696: ConvergenceWarning: Stochastic Optimizer: Maximum iterations (700) reached and the optimization hasn't converged yet.\n",
            "  ConvergenceWarning,\n",
            "/usr/local/lib/python3.7/dist-packages/sklearn/neural_network/_multilayer_perceptron.py:696: ConvergenceWarning: Stochastic Optimizer: Maximum iterations (700) reached and the optimization hasn't converged yet.\n",
            "  ConvergenceWarning,\n",
            "/usr/local/lib/python3.7/dist-packages/sklearn/neural_network/_multilayer_perceptron.py:696: ConvergenceWarning: Stochastic Optimizer: Maximum iterations (700) reached and the optimization hasn't converged yet.\n",
            "  ConvergenceWarning,\n",
            "/usr/local/lib/python3.7/dist-packages/sklearn/neural_network/_multilayer_perceptron.py:696: ConvergenceWarning: Stochastic Optimizer: Maximum iterations (700) reached and the optimization hasn't converged yet.\n",
            "  ConvergenceWarning,\n",
            "/usr/local/lib/python3.7/dist-packages/sklearn/neural_network/_multilayer_perceptron.py:696: ConvergenceWarning: Stochastic Optimizer: Maximum iterations (1000) reached and the optimization hasn't converged yet.\n",
            "  ConvergenceWarning,\n",
            "/usr/local/lib/python3.7/dist-packages/sklearn/neural_network/_multilayer_perceptron.py:696: ConvergenceWarning: Stochastic Optimizer: Maximum iterations (1000) reached and the optimization hasn't converged yet.\n",
            "  ConvergenceWarning,\n",
            "/usr/local/lib/python3.7/dist-packages/sklearn/neural_network/_multilayer_perceptron.py:696: ConvergenceWarning: Stochastic Optimizer: Maximum iterations (1000) reached and the optimization hasn't converged yet.\n",
            "  ConvergenceWarning,\n",
            "/usr/local/lib/python3.7/dist-packages/sklearn/neural_network/_multilayer_perceptron.py:696: ConvergenceWarning: Stochastic Optimizer: Maximum iterations (1000) reached and the optimization hasn't converged yet.\n",
            "  ConvergenceWarning,\n",
            "/usr/local/lib/python3.7/dist-packages/sklearn/neural_network/_multilayer_perceptron.py:696: ConvergenceWarning: Stochastic Optimizer: Maximum iterations (1000) reached and the optimization hasn't converged yet.\n",
            "  ConvergenceWarning,\n",
            "/usr/local/lib/python3.7/dist-packages/sklearn/neural_network/_multilayer_perceptron.py:696: ConvergenceWarning: Stochastic Optimizer: Maximum iterations (700) reached and the optimization hasn't converged yet.\n",
            "  ConvergenceWarning,\n",
            "/usr/local/lib/python3.7/dist-packages/sklearn/neural_network/_multilayer_perceptron.py:696: ConvergenceWarning: Stochastic Optimizer: Maximum iterations (700) reached and the optimization hasn't converged yet.\n",
            "  ConvergenceWarning,\n",
            "/usr/local/lib/python3.7/dist-packages/sklearn/neural_network/_multilayer_perceptron.py:696: ConvergenceWarning: Stochastic Optimizer: Maximum iterations (700) reached and the optimization hasn't converged yet.\n",
            "  ConvergenceWarning,\n",
            "/usr/local/lib/python3.7/dist-packages/sklearn/neural_network/_multilayer_perceptron.py:696: ConvergenceWarning: Stochastic Optimizer: Maximum iterations (700) reached and the optimization hasn't converged yet.\n",
            "  ConvergenceWarning,\n",
            "/usr/local/lib/python3.7/dist-packages/sklearn/neural_network/_multilayer_perceptron.py:696: ConvergenceWarning: Stochastic Optimizer: Maximum iterations (700) reached and the optimization hasn't converged yet.\n",
            "  ConvergenceWarning,\n",
            "/usr/local/lib/python3.7/dist-packages/sklearn/neural_network/_multilayer_perceptron.py:696: ConvergenceWarning: Stochastic Optimizer: Maximum iterations (1000) reached and the optimization hasn't converged yet.\n",
            "  ConvergenceWarning,\n",
            "/usr/local/lib/python3.7/dist-packages/sklearn/neural_network/_multilayer_perceptron.py:696: ConvergenceWarning: Stochastic Optimizer: Maximum iterations (1000) reached and the optimization hasn't converged yet.\n",
            "  ConvergenceWarning,\n",
            "/usr/local/lib/python3.7/dist-packages/sklearn/neural_network/_multilayer_perceptron.py:696: ConvergenceWarning: Stochastic Optimizer: Maximum iterations (1000) reached and the optimization hasn't converged yet.\n",
            "  ConvergenceWarning,\n",
            "/usr/local/lib/python3.7/dist-packages/sklearn/neural_network/_multilayer_perceptron.py:696: ConvergenceWarning: Stochastic Optimizer: Maximum iterations (1000) reached and the optimization hasn't converged yet.\n",
            "  ConvergenceWarning,\n",
            "/usr/local/lib/python3.7/dist-packages/sklearn/neural_network/_multilayer_perceptron.py:696: ConvergenceWarning: Stochastic Optimizer: Maximum iterations (1000) reached and the optimization hasn't converged yet.\n",
            "  ConvergenceWarning,\n",
            "/usr/local/lib/python3.7/dist-packages/sklearn/neural_network/_multilayer_perceptron.py:696: ConvergenceWarning: Stochastic Optimizer: Maximum iterations (700) reached and the optimization hasn't converged yet.\n",
            "  ConvergenceWarning,\n",
            "/usr/local/lib/python3.7/dist-packages/sklearn/neural_network/_multilayer_perceptron.py:696: ConvergenceWarning: Stochastic Optimizer: Maximum iterations (200) reached and the optimization hasn't converged yet.\n",
            "  ConvergenceWarning,\n",
            "/usr/local/lib/python3.7/dist-packages/sklearn/neural_network/_multilayer_perceptron.py:696: ConvergenceWarning: Stochastic Optimizer: Maximum iterations (200) reached and the optimization hasn't converged yet.\n",
            "  ConvergenceWarning,\n",
            "/usr/local/lib/python3.7/dist-packages/sklearn/neural_network/_multilayer_perceptron.py:696: ConvergenceWarning: Stochastic Optimizer: Maximum iterations (200) reached and the optimization hasn't converged yet.\n",
            "  ConvergenceWarning,\n",
            "/usr/local/lib/python3.7/dist-packages/sklearn/neural_network/_multilayer_perceptron.py:696: ConvergenceWarning: Stochastic Optimizer: Maximum iterations (200) reached and the optimization hasn't converged yet.\n",
            "  ConvergenceWarning,\n",
            "/usr/local/lib/python3.7/dist-packages/sklearn/neural_network/_multilayer_perceptron.py:696: ConvergenceWarning: Stochastic Optimizer: Maximum iterations (200) reached and the optimization hasn't converged yet.\n",
            "  ConvergenceWarning,\n",
            "/usr/local/lib/python3.7/dist-packages/sklearn/neural_network/_multilayer_perceptron.py:696: ConvergenceWarning: Stochastic Optimizer: Maximum iterations (200) reached and the optimization hasn't converged yet.\n",
            "  ConvergenceWarning,\n",
            "/usr/local/lib/python3.7/dist-packages/sklearn/neural_network/_multilayer_perceptron.py:696: ConvergenceWarning: Stochastic Optimizer: Maximum iterations (200) reached and the optimization hasn't converged yet.\n",
            "  ConvergenceWarning,\n",
            "/usr/local/lib/python3.7/dist-packages/sklearn/neural_network/_multilayer_perceptron.py:696: ConvergenceWarning: Stochastic Optimizer: Maximum iterations (200) reached and the optimization hasn't converged yet.\n",
            "  ConvergenceWarning,\n",
            "/usr/local/lib/python3.7/dist-packages/sklearn/neural_network/_multilayer_perceptron.py:696: ConvergenceWarning: Stochastic Optimizer: Maximum iterations (200) reached and the optimization hasn't converged yet.\n",
            "  ConvergenceWarning,\n",
            "/usr/local/lib/python3.7/dist-packages/sklearn/neural_network/_multilayer_perceptron.py:696: ConvergenceWarning: Stochastic Optimizer: Maximum iterations (200) reached and the optimization hasn't converged yet.\n",
            "  ConvergenceWarning,\n",
            "/usr/local/lib/python3.7/dist-packages/sklearn/neural_network/_multilayer_perceptron.py:696: ConvergenceWarning: Stochastic Optimizer: Maximum iterations (200) reached and the optimization hasn't converged yet.\n",
            "  ConvergenceWarning,\n",
            "/usr/local/lib/python3.7/dist-packages/sklearn/neural_network/_multilayer_perceptron.py:696: ConvergenceWarning: Stochastic Optimizer: Maximum iterations (200) reached and the optimization hasn't converged yet.\n",
            "  ConvergenceWarning,\n",
            "/usr/local/lib/python3.7/dist-packages/sklearn/neural_network/_multilayer_perceptron.py:696: ConvergenceWarning: Stochastic Optimizer: Maximum iterations (200) reached and the optimization hasn't converged yet.\n",
            "  ConvergenceWarning,\n",
            "/usr/local/lib/python3.7/dist-packages/sklearn/neural_network/_multilayer_perceptron.py:696: ConvergenceWarning: Stochastic Optimizer: Maximum iterations (200) reached and the optimization hasn't converged yet.\n",
            "  ConvergenceWarning,\n",
            "/usr/local/lib/python3.7/dist-packages/sklearn/neural_network/_multilayer_perceptron.py:696: ConvergenceWarning: Stochastic Optimizer: Maximum iterations (200) reached and the optimization hasn't converged yet.\n",
            "  ConvergenceWarning,\n"
          ]
        },
        {
          "output_type": "stream",
          "name": "stdout",
          "text": [
            "{'hidden_layer_sizes': (20, 20), 'max_iter': 1000}\n"
          ]
        },
        {
          "output_type": "stream",
          "name": "stderr",
          "text": [
            "/usr/local/lib/python3.7/dist-packages/sklearn/neural_network/_multilayer_perceptron.py:696: ConvergenceWarning: Stochastic Optimizer: Maximum iterations (1000) reached and the optimization hasn't converged yet.\n",
            "  ConvergenceWarning,\n"
          ]
        }
      ]
    },
    {
      "cell_type": "markdown",
      "source": [
        "Se realizan las pruebas con el set de entrenamiento usando los mejores parametros y se muestran los resultados de la precisión."
      ],
      "metadata": {
        "id": "TvpljlzksFg1"
      }
    },
    {
      "cell_type": "code",
      "source": [
        "predictions = grid_search.predict(x_test)\n",
        "\n",
        "accuracy = grid_search.score(x_test,y_test)\n",
        "\n",
        "print(f\"La precisión de MLP Classifier en el conjunto de prueba es: {accuracy:.2f}\")\n",
        "print(\"Confusion matrix:\\n%s\" % metrics.confusion_matrix(y_test, predictions))"
      ],
      "metadata": {
        "id": "mNI33_3QsHwK",
        "colab": {
          "base_uri": "https://localhost:8080/"
        },
        "outputId": "1f00153a-a170-4676-f5cf-66c4a22b036b"
      },
      "execution_count": null,
      "outputs": [
        {
          "output_type": "stream",
          "name": "stdout",
          "text": [
            "La precisión de MLP Classifier en el conjunto de prueba es: 1.00\n",
            "Confusion matrix:\n",
            "[[30  0]\n",
            " [ 0 29]]\n"
          ]
        }
      ]
    },
    {
      "cell_type": "markdown",
      "source": [
        "Ahora miraremos la precisión de los datos de entrenamiento y también miraremos su matríz de confusión."
      ],
      "metadata": {
        "id": "uY8kaWLK1oNK"
      }
    },
    {
      "cell_type": "code",
      "source": [
        "predictions = grid_search.predict(x_train)\n",
        "\n",
        "accuracy = grid_search.score(x_train,y_train)\n",
        "\n",
        "print(f\"La precisión de MLP Classifier en el conjunto de entrenamiento es: {accuracy:.2f}\")\n",
        "print(\"Confusion matrix:\\n%s\" % metrics.confusion_matrix(y_train, predictions))"
      ],
      "metadata": {
        "id": "5weiNTHR1noK",
        "colab": {
          "base_uri": "https://localhost:8080/"
        },
        "outputId": "fd98737d-21db-46d8-9802-7c940a57f017"
      },
      "execution_count": null,
      "outputs": [
        {
          "output_type": "stream",
          "name": "stdout",
          "text": [
            "La precisión de MLP Classifier en el conjunto de entrenamiento es: 1.00\n",
            "Confusion matrix:\n",
            "[[117   0]\n",
            " [  0 118]]\n"
          ]
        }
      ]
    },
    {
      "cell_type": "markdown",
      "source": [
        "# Conclusiones\n",
        "\n",
        "Para concluir nuestro informe, podemos ver que los datos no estuvieron balanceados, hubo más información de personas que padecían de la enfermedad de Parkinson y muy pocos pacientes sanos, si no se balancea, el algoritmo empleado para predecir podría fallar en gran medida, por eso es por lo que usamos la técnica de OverSampling y usamos la estrategia ‘minority’ para balancear los datos de las personas sanas e igualarla a las personas que padecían de dicha enfermedad. La primera conclusión es que gracias a esta técnica pudimos obtener mejores resultados.\n",
        "\n",
        "Ahora, con respecto a los modelos utilizados para nuestro informe podemos decir que:\n",
        "\n",
        "*\tEn el algoritmo de Logistic Regression, usamos dos tipos de parámetros para obtener la mejor solución, aunque en las dos nos dio el mismo resultado, se hicieron muchísimas pruebas con el segundo parámetro para obtener una mejora, pero no sucedió, la mejor precisión para el conjunto de prueba fue un 90%.\n",
        "\n",
        "*\tEn el algoritmo de Decision Tree Classifier primero usamos unos parámetros, pero dio un rendimiento muchísimo peor que Logistic Regression, dando una precisión de 86% en el conjunto de prueba, un valor muy malo. Por esto, hicimos una segunda versión, gracias a los mejores parámetros escogidos por GridSearch, hicimos una reducción más de la muestra y pudimos encontrar el segundo conjunto de parámetros y su mejora fue excelente, dando una precisión en el conjunto de prueba de 100%, comparado con el anterior algoritmo, este ha sido muchísimo mejor, y claro, en la gráfica de la matriz de confusión pudimos ver que no hubo confusión.\n",
        "\n",
        "*\tEn Random Forest vemos algo y es que con los primeros parámetros usados al azar hay una precisión en el conjunto de entrenamiento de 100% pero en el de prueba un 86%, comparado con la primera ejecución de Decision Tree Classifier, hay una mejora, pero, se recopilaron otros parámetros y tuvimos una mejora con los datos de prueba, llegando al 100% de precisión, pero un bajón de un 1% en los datos del conjunto de entrenamiento.\n",
        "•\tEn esta parte podemos concluir que Random Forest es más estable que Decision Tree Classifier porque con unos parámetros “aleatorios” se pudo notar una mejora en la precisión en Random Forest, esto claro, a que Decision Tree tiene una desventaje con respecto al sub-ajuste.\n",
        "\n",
        "*\tPor último, tenemos a MLPClassifier que es un algoritmo que utiliza redes neuronales sorprendió muchísimo, tuvo una precisión del 100% tanto en conjuntos de prueba y entrenamiento con los primeros parámetros, usando dos capas de 20 neuronas cada una, por ahora ha sido el algoritmo que ha tenido mejor impacto sin cambiar los parámetros más de una vez.\n",
        "\n",
        "*\tPodemos concluir que MLPClassifier es el mejor algoritmo para predecir si un paciente padece de la enfermedad de Parkinson o no, tuvo el mejor rendimiento, siendo un algoritmo que utiliza redes neuronales, es más sofisticado que los anteriores. \n",
        "\n",
        "*\tSe concluye que el algoritmo que tuvo peor rendimiento fue el Logistic Regression porque no tuvo una precisión del 100%.\n"
      ],
      "metadata": {
        "id": "AtjUxQIf3K24"
      }
    },
    {
      "cell_type": "markdown",
      "source": [
        "# Trabajo futuro\n",
        "Gracias a las conclusiones dadas, se pudo evidenciar algo importante y es que los datos no estaban balanceados, había más información de pacientes con la enfermedad de Parkinson que de pacientes sanos y claro, el algoritmo clasificaba mal los pacientes que no padecían de la enfermedad (esto antes de utilizar técnicas de balanceos), para esto, se recomendaría aumentar la cantidad de muestras de personas que no padecen de Parkinson, si es posible, tener casi la misma cantidad de pacientes sanos y de pacientes con dicha enfermedad, con esto la precisión para predecir el estado actual de la persona usando algoritmos de inteligencia artificial mejorarían muchísimo. Creemos que este dataset se de mucha ayuda para el diagnóstico de personas que creen que puedan ser propensos a tener la enfermedad de Parkinson. También creemos que utilizar un algoritmo de inteligencia Artificial más sofisticado ayudaría a aumentar la precisión. Hemos evidenciado en trabajos similares que la utilización de métodos como XGBClassifier (eXtreme Gradient Boosting) dando una precisión del 97%. "
      ],
      "metadata": {
        "id": "wpLJM98ehcT0"
      }
    }
  ],
  "metadata": {
    "colab": {
      "provenance": [],
      "collapsed_sections": [
        "wpLJM98ehcT0"
      ]
    },
    "kernelspec": {
      "display_name": "Python 3",
      "name": "python3"
    },
    "language_info": {
      "name": "python"
    }
  },
  "nbformat": 4,
  "nbformat_minor": 0
}